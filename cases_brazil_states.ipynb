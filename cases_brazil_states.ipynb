{
  "nbformat": 4,
  "nbformat_minor": 0,
  "metadata": {
    "colab": {
      "provenance": [],
      "authorship_tag": "ABX9TyNayW5oFhVZwshIZv9Jy6JI",
      "include_colab_link": true
    },
    "kernelspec": {
      "name": "python3",
      "display_name": "Python 3"
    },
    "language_info": {
      "name": "python"
    }
  },
  "cells": [
    {
      "cell_type": "markdown",
      "metadata": {
        "id": "view-in-github",
        "colab_type": "text"
      },
      "source": [
        "<a href=\"https://colab.research.google.com/github/Andersonspita/analise_de_dados_COVID/blob/main/cases_brazil_states.ipynb\" target=\"_parent\"><img src=\"https://colab.research.google.com/assets/colab-badge.svg\" alt=\"Open In Colab\"/></a>"
      ]
    },
    {
      "cell_type": "code",
      "execution_count": 3,
      "metadata": {
        "id": "JxL1G9OaC36J"
      },
      "outputs": [],
      "source": [
        "from tables.table import Column\n",
        "import pandas as pd\n",
        "import plotly.express as px\n",
        "\n",
        "#LENDO O DATASET\n",
        "df = pd.read_csv('cases-brazil-states.csv')\n",
        "\n",
        "#MELHORANDO O NOME DAS COLUNAS DA TABELA\n",
        "df = df.rename(columns={'newDeaths': 'Novos óbitos', 'newCases': 'Novos casos', 'deaths_per_100k_inhabitants': 'Óbitos por 100 mil habitantes', 'totalCases_per_100k_inhabitants': 'Casos por 100 mil habitantes'})\n",
        "\n",
        "#SELEÇÃO DO ESTADO\n",
        "state = 'BA'\n",
        "estados = list(df['state'].unique())\n",
        "\n",
        "#SELEÇÃO DA COLUNA\n",
        "column = 'Casos por 100 mil habitantes'\n",
        "colunas = ['Novos óbitos', 'Novos casos', 'Óbitos por 100 mil habitantes', 'Casos por 100 mil habitantes']\n",
        "\n",
        "#SELEÇÃO DAS LINHAS QUE PERTENCEM AO ESTADO\n",
        "df = df[df['state'] == state]\n",
        "\n",
        "fig = px.line(df, x=\"date\", y=column, title=column + ' - ' + state)\n",
        "fig.update_layout( xaxis_title='Data', yaxis_title=column.upper(), title = {'x': 0.5})\n",
        "\n",
        "print('DADOS COVID - BRASIL')"
      ]
    }
  ]
}